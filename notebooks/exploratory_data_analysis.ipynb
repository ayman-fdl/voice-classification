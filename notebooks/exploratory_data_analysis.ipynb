{
 "cells": [
  {
   "cell_type": "markdown",
   "metadata": {},
   "source": [
    "# Exploratory Data Analysis for Voice Classification\n",
    "\n",
    "In this notebook, we will perform exploratory data analysis (EDA) on the voice dataset. We will visualize the data and gain insights that will help us in the model training process."
   ]
  },
  {
   "cell_type": "code",
   "execution_count": null,
   "metadata": {},
   "outputs": [],
   "source": [
    "import os\n",
    "import pandas as pd\n",
    "import librosa\n",
    "import matplotlib.pyplot as plt\n",
    "import seaborn as sns\n",
    "\n",
    "# Set the style for seaborn\n",
    "sns.set(style='whitegrid')\n",
    "\n",
    "# Define the path to the raw audio files\n",
    "raw_data_path = '../data/raw/'\n",
    "\n",
    "# Function to load audio files and extract basic information\n",
    "def load_audio_data(path):\n",
    "    audio_files = []\n",
    "    for filename in os.listdir(path):\n",
    "        if filename.endswith('.wav'):\n",
    "            file_path = os.path.join(path, filename)\n",
    "            audio, sr = librosa.load(file_path)\n",
    "            audio_files.append({'filename': filename, 'duration': librosa.get_duration(y=audio, sr=sr)})\n",
    "    return pd.DataFrame(audio_files)\n",
    "\n",
    "# Load the audio data\n",
    "audio_data = load_audio_data(raw_data_path)\n",
    "\n",
    "# Display the first few rows of the audio data\n",
    "audio_data.head()"
   ]
  },
  {
   "cell_type": "code",
   "execution_count": null,
   "metadata": {},
   "outputs": [],
   "source": [
    "# Visualize the distribution of audio durations\n",
    "plt.figure(figsize=(12, 6))\n",
    "sns.histplot(audio_data['duration'], bins=30, kde=True)\n",
    "plt.title('Distribution of Audio Durations')\n",
    "plt.xlabel('Duration (seconds)')\n",
    "plt.ylabel('Frequency')\n",
    "plt.show()"
   ]
  },
  {
   "cell_type": "code",
   "execution_count": null,
   "metadata": {},
   "outputs": [],
   "source": [
    "# Further analysis can be added here, such as visualizing audio waveforms, spectrograms, etc.\n",
    "# For example, let's visualize a sample audio waveform:\n",
    "\n",
    "sample_file = audio_data['filename'].iloc[0]\n",
    "sample_audio, sr = librosa.load(os.path.join(raw_data_path, sample_file))\n",
    "\n",
    "plt.figure(figsize=(12, 4))\n",
    "plt.plot(sample_audio)\n",
    "plt.title(f'Waveform of {sample_file}')\n",
    "plt.xlabel('Samples')\n",
    "plt.ylabel('Amplitude')\n",
    "plt.show()"
   ]
  }
 ],
 "metadata": {
  "kernelspec": {
   "display_name": "Python 3",
   "language": "python",
   "name": "python3"
  },
  "language_info": {
   "codemirror_mode": {
    "name": "ipython",
    "version": 3
   },
   "file_extension": ".py",
   "mimetype": "text/x-python",
   "name": "python",
   "nbconvert_exporter": "python",
   "pygments_lexer": "ipython3",
   "version": "3.8.5"
  }
 },
 "nbformat": 4,
 "nbformat_minor": 4
}